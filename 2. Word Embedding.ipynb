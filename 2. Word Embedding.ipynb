{
 "cells": [
  {
   "cell_type": "markdown",
   "id": "dc0b6371",
   "metadata": {},
   "source": [
    "## Word embedding\n",
    "\n",
    "https://www.guru99.com/word-embedding-word2vec.html#1\n",
    "\n",
    "- 词嵌入也称为分布式语义模型\n",
    "- 允许机器学习算法理解具有相似含义的单词\n",
    "- 使用神经网络、概率模型或单词共现矩阵的降维将单词映射为实数向量。\n",
    "- 一些词嵌入模型是 Word2vec (Google)、Glove (Stanford) 和fatest (Facebook)。\n",
    "\n",
    "- 用途：例如词性标注、情感分析和句法分析。"
   ]
  },
  {
   "cell_type": "markdown",
   "id": "25baa3db",
   "metadata": {},
   "source": [
    "### Word2vec\n",
    "\n",
    "#### 词嵌入之前的方法：Latent Semantic approach 潜在语义法\n",
    "- 它忽略了单词的顺序，上下文语意\n",
    "\n",
    "\n",
    "#### Word2vec简介\n",
    "- 是一个浅层的两层神经网络，可以检测同义词并在训练后为部分句子建议附加词\n",
    "- 浅层神经网络由输入和输出之间的唯一隐藏层组成\n",
    "\n",
    "- 单词以向量的形式表示，并且放置的方式是使相似的含义单词一起出现，而不同的单词位于很远的地方。\n",
    "- Word2vec 重建单词的语言上下文。\n",
    "- 句子的主要目标是上下文\n",
    "\n",
    "#### Word2vec 架构\n",
    "使用两种架构：\n",
    "- Continuous Bag of words (CBOW)\n",
    "- Skip gram\n",
    "\n",
    "学习单词表示本质上是无监督的，但需要目标/标签来训练模型。Skip-gram 和 CBOW 将无监督表示转换为监督形式以进行模型训练。\n",
    "\n",
    "- CBOW 中，当前单词是使用周围上下文窗口的窗口预测的。例如，如果给定 w i-1 ,w i-2 ,w i+1 ,w i+2单词或上下文，该模型将提供 wi\n",
    "- 假设 V 是词汇量大小，N 是隐藏层大小。输入定义为 { x i-1 , x i-2, x i+1, x i+2 }。\n",
    "- 通过乘以 V * N 来获得权重矩阵。\n",
    "- 另一个矩阵是通过将输入向量与权重矩阵相乘获得的， 即h=xi ^t W\n",
    "- 计算上下文和下一个单词之间的匹配, u=预测表示*h\n",
    "\n",
    "- Skip-Gram 与 CBOW 相反，这意味着它从单词中预测给定的序列或上下文。如果给出 w i，这将预测上下文或 w i-1 , w i-2 , w i+1 , w i+2 。\n",
    "\n",
    "#### Word2vec 和 NLTK 的关系\n",
    "- NLTK是自然语言工具包。\n",
    "- 它用于文本的预处理。例如词性标记、词形还原、词干提取、停用词删除、删除稀有词或最少使用的词。\n",
    "- 它有助于清理文本以及帮助从有效单词中准备特征。\n",
    "- NTLK : 标记化、POS 标记和解析\n",
    "\n",
    "- Word2vec 用于语义（密切相关的项目在一起）和句法（序列）匹配。\n",
    "- 使用 Word2vec，可以找到相似词、不相似词、降维等等。\n",
    "- Word2vec 的另一个重要特性是将文本的高维表示转换为向量的低维表示。\n",
    "- Word2vec: 上下文、主题建模或文档相似性预测单词"
   ]
  },
  {
   "cell_type": "markdown",
   "id": "0ab0c4eb",
   "metadata": {},
   "source": [
    "## Code "
   ]
  },
  {
   "cell_type": "code",
   "execution_count": 11,
   "id": "3d7ff892",
   "metadata": {},
   "outputs": [
    {
     "name": "stderr",
     "output_type": "stream",
     "text": [
      "[nltk_data] Downloading package punkt to /Users/WYF/nltk_data...\n",
      "[nltk_data]   Unzipping tokenizers/punkt.zip.\n"
     ]
    },
    {
     "data": {
      "text/plain": [
       "True"
      ]
     },
     "execution_count": 11,
     "metadata": {},
     "output_type": "execute_result"
    }
   ],
   "source": [
    "import nltk\n",
    "import gensim\n",
    "# nltk.download('all')\n",
    "# nltk.download('abc') \n",
    "# 使用 nltk.download('abc') 导入已下载的语料库 abc\n",
    "nltk.download('punkt')"
   ]
  },
  {
   "cell_type": "code",
   "execution_count": 12,
   "id": "50b10dec",
   "metadata": {},
   "outputs": [],
   "source": [
    "from nltk.corpus import abc"
   ]
  },
  {
   "cell_type": "code",
   "execution_count": 21,
   "id": "afc492f4",
   "metadata": {},
   "outputs": [
    {
     "name": "stdout",
     "output_type": "stream",
     "text": [
      "[('law', 0.9348465204238892), ('policy', 0.912981390953064), ('general', 0.9111647009849548), ('agriculture', 0.9049620628356934), ('discussion', 0.9038895964622498), ('education', 0.9038276076316833), ('media', 0.9017712473869324), ('biology', 0.8982253670692444), ('department', 0.898065984249115), ('physics', 0.8975754380226135)]\n"
     ]
    }
   ],
   "source": [
    "# 用 Gensim 作为句子导入的模型 Word2vec\n",
    "model= gensim.models.Word2Vec(abc.sents())\n",
    "\n",
    "X= list(model.wv.index_to_key) \n",
    "data=model.wv.most_similar('science') \n",
    "print(data)"
   ]
  },
  {
   "cell_type": "markdown",
   "id": "5b6aa518",
   "metadata": {},
   "source": [
    "### 激活器和 Word2Vec\n",
    "\n",
    "- 神经元的激活函数定义了给定一组输入的神经元的输出\n",
    "- 激活函数将线性关系转化为非线性\n",
    "\n",
    "#### 如何在词嵌入 (Word2vec) 中计算激活层\n",
    "-  Hierarchical Softmax ，差分 Softmax、CNN-Softmax、重要性采样、自适应重要性采样、噪声对比估计、负采样、自归一化和不频繁归一化。\n",
    "- 特别谈到 Word2vec，我们有可用的负采样。\n",
    "- 负采样类似于随机梯度下降，但有一些不同。\n",
    "- 负采样仅查找负训练示例。它基于噪声对比估计并随机采样单词，而不是在上下文。如果预测词出现在随机选择的上下文中，则两个向量彼此接近。\n",
    "\n",
    "### Gensim\n",
    "- Gensim是自然语言处理工具包。允许用户导入 Word2vec 进行主题建模，\n",
    "\n",
    "## 如何使用 Gensim 实现 Word2vec"
   ]
  },
  {
   "cell_type": "markdown",
   "id": "2e743faa",
   "metadata": {},
   "source": [
    "### 1) 数据收集"
   ]
  },
  {
   "cell_type": "code",
   "execution_count": 26,
   "id": "3501975b",
   "metadata": {},
   "outputs": [],
   "source": [
    "import json\n",
    "json_file ='intents.json'\n",
    "with open('intents.json','r') as f:\n",
    "    data = json.load(f)"
   ]
  },
  {
   "cell_type": "code",
   "execution_count": 27,
   "id": "214ebe22",
   "metadata": {},
   "outputs": [],
   "source": [
    "# convert data into data frame\n",
    "\n",
    "import pandas as pd\n",
    "df = pd.DataFrame(data)\n",
    "df['pattern'] = df['patterns'].apply(', '.join) "
   ]
  },
  {
   "cell_type": "code",
   "execution_count": 28,
   "id": "40badecf",
   "metadata": {},
   "outputs": [
    {
     "ename": "ModuleNotFoundError",
     "evalue": "No module named 'textblob'",
     "output_type": "error",
     "traceback": [
      "\u001b[0;31m---------------------------------------------------------------------------\u001b[0m",
      "\u001b[0;31mModuleNotFoundError\u001b[0m                       Traceback (most recent call last)",
      "\u001b[0;32m/var/folders/_5/nbn8qmmj3bx_4cqrbly24rg00000gn/T/ipykernel_11007/564208704.py\u001b[0m in \u001b[0;36m<module>\u001b[0;34m\u001b[0m\n\u001b[1;32m      1\u001b[0m \u001b[0;32mfrom\u001b[0m \u001b[0mnltk\u001b[0m\u001b[0;34m.\u001b[0m\u001b[0mcorpus\u001b[0m \u001b[0;32mimport\u001b[0m \u001b[0mstopwords\u001b[0m\u001b[0;34m\u001b[0m\u001b[0;34m\u001b[0m\u001b[0m\n\u001b[0;32m----> 2\u001b[0;31m \u001b[0;32mfrom\u001b[0m \u001b[0mtextblob\u001b[0m \u001b[0;32mimport\u001b[0m \u001b[0mWord\u001b[0m\u001b[0;34m\u001b[0m\u001b[0;34m\u001b[0m\u001b[0m\n\u001b[0m",
      "\u001b[0;31mModuleNotFoundError\u001b[0m: No module named 'textblob'"
     ]
    }
   ],
   "source": [
    "from nltk.corpus import stopwords\n",
    "from textblob import Word"
   ]
  },
  {
   "cell_type": "code",
   "execution_count": null,
   "id": "e4c02939",
   "metadata": {},
   "outputs": [],
   "source": []
  }
 ],
 "metadata": {
  "kernelspec": {
   "display_name": "Python 3 (ipykernel)",
   "language": "python",
   "name": "python3"
  },
  "language_info": {
   "codemirror_mode": {
    "name": "ipython",
    "version": 3
   },
   "file_extension": ".py",
   "mimetype": "text/x-python",
   "name": "python",
   "nbconvert_exporter": "python",
   "pygments_lexer": "ipython3",
   "version": "3.7.11"
  }
 },
 "nbformat": 4,
 "nbformat_minor": 5
}
